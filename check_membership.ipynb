{
 "cells": [
  {
   "cell_type": "code",
   "execution_count": 3,
   "id": "initial_id",
   "metadata": {
    "collapsed": true,
    "ExecuteTime": {
     "end_time": "2024-01-30T04:15:45.535179Z",
     "start_time": "2024-01-30T04:15:45.495524700Z"
    }
   },
   "outputs": [],
   "source": [
    "import pandas as pd"
   ]
  },
  {
   "cell_type": "markdown",
   "source": [
    "# Load Zeffy transaction data"
   ],
   "metadata": {
    "collapsed": false
   },
   "id": "898006ab4fc386f1"
  },
  {
   "cell_type": "code",
   "execution_count": 4,
   "outputs": [],
   "source": [
    "# Specify the path to your Excel file\n",
    "excel_file_path = '2024_Annual_event_Zeffy-export-1706586881621.xlsx'\n",
    "\n",
    "# Load the Excel file into a pandas DataFrame\n",
    "event_df = pd.read_excel(excel_file_path)"
   ],
   "metadata": {
    "collapsed": false,
    "ExecuteTime": {
     "end_time": "2024-01-30T04:15:47.997876600Z",
     "start_time": "2024-01-30T04:15:46.966047800Z"
    }
   },
   "id": "b94e5e56f280105b"
  },
  {
   "cell_type": "code",
   "execution_count": 38,
   "outputs": [],
   "source": [
    "buy_member_ticket_df = event_df[(event_df.Detail == '會員成人票') & (~pd.isna(event_df['Email']))].drop_duplicates(subset=['Email'])"
   ],
   "metadata": {
    "collapsed": false,
    "ExecuteTime": {
     "end_time": "2024-01-30T04:39:10.885820500Z",
     "start_time": "2024-01-30T04:39:10.869764700Z"
    }
   },
   "id": "9e50b45c20875979"
  },
  {
   "cell_type": "code",
   "execution_count": 40,
   "outputs": [],
   "source": [
    "buy_member_ticket_df['full_name'] = buy_member_ticket_df.apply(lambda x: x['First name'].lower() + '_' + x['Last name'].lower(), axis=1)"
   ],
   "metadata": {
    "collapsed": false,
    "ExecuteTime": {
     "end_time": "2024-01-30T04:39:14.216486300Z",
     "start_time": "2024-01-30T04:39:14.195171200Z"
    }
   },
   "id": "ebfae8b76963d624"
  },
  {
   "cell_type": "markdown",
   "source": [
    "# Load Square member data"
   ],
   "metadata": {
    "collapsed": false
   },
   "id": "3b631eef55f7ed79"
  },
  {
   "cell_type": "code",
   "execution_count": 43,
   "outputs": [],
   "source": [
    "csv_file_path = 'SQ_membership_list_20240130-033829.csv'\n",
    "member_df = pd.read_csv(csv_file_path)"
   ],
   "metadata": {
    "collapsed": false,
    "ExecuteTime": {
     "end_time": "2024-01-30T04:40:27.402817400Z",
     "start_time": "2024-01-30T04:40:27.348665200Z"
    }
   },
   "id": "cba82a2463938e3e"
  },
  {
   "cell_type": "code",
   "execution_count": 45,
   "outputs": [],
   "source": [
    "member_df['full_name'] = member_df.apply(lambda x: x['First Name'].lower() + '_' + x['Last Name'].lower() if not pd.isna(x['Last Name']) else x['First Name'].lower(), axis=1)"
   ],
   "metadata": {
    "collapsed": false,
    "ExecuteTime": {
     "end_time": "2024-01-30T04:41:03.177928100Z",
     "start_time": "2024-01-30T04:41:03.149033100Z"
    }
   },
   "id": "5eaf199e7b50e97b"
  },
  {
   "cell_type": "markdown",
   "source": [
    "# Find those who bought the member ticket but not a member\n",
    "Criteria: `full_name` in `buy_member_ticket_df` is not in `member_df.full_name` and `Email` of `buy_member_ticket_df` is not in `member_df['Email Address']`"
   ],
   "metadata": {
    "collapsed": false
   },
   "id": "692c576c3f660a86"
  },
  {
   "cell_type": "code",
   "execution_count": 66,
   "outputs": [],
   "source": [
    "may_not_join_member_df = buy_member_ticket_df[~buy_member_ticket_df.full_name.isin(member_df.full_name) & ~buy_member_ticket_df.Email.isin(member_df['Email Address'])]"
   ],
   "metadata": {
    "collapsed": false,
    "ExecuteTime": {
     "end_time": "2024-01-30T05:17:20.820509Z",
     "start_time": "2024-01-30T05:17:20.809506200Z"
    }
   },
   "id": "13b136eb4bc3ab1a"
  },
  {
   "cell_type": "code",
   "execution_count": 67,
   "outputs": [],
   "source": [
    "# Specify the path where you want to save the Excel file\n",
    "timestamp = pd.Timestamp.now().strftime('%Y%m%d-%H%M%S')\n",
    "excel_file_path = f'may_not_join_tags_member_{timestamp}.xlsx'\n",
    "\n",
    "# Write the DataFrame to an Excel file\n",
    "may_not_join_member_df.to_excel(excel_file_path, index=False)"
   ],
   "metadata": {
    "collapsed": false,
    "ExecuteTime": {
     "end_time": "2024-01-30T05:17:21.417974500Z",
     "start_time": "2024-01-30T05:17:21.371862600Z"
    }
   },
   "id": "3b51b794d39b2d2"
  }
 ],
 "metadata": {
  "kernelspec": {
   "display_name": "Python 3",
   "language": "python",
   "name": "python3"
  },
  "language_info": {
   "codemirror_mode": {
    "name": "ipython",
    "version": 2
   },
   "file_extension": ".py",
   "mimetype": "text/x-python",
   "name": "python",
   "nbconvert_exporter": "python",
   "pygments_lexer": "ipython2",
   "version": "2.7.6"
  }
 },
 "nbformat": 4,
 "nbformat_minor": 5
}
