{
 "cells": [
  {
   "cell_type": "code",
   "execution_count": 3,
   "id": "initial_id",
   "metadata": {
    "collapsed": true,
    "ExecuteTime": {
     "end_time": "2024-01-30T04:15:45.535179Z",
     "start_time": "2024-01-30T04:15:45.495524700Z"
    }
   },
   "outputs": [],
   "source": [
    "import pandas as pd"
   ]
  },
  {
   "cell_type": "markdown",
   "source": [
    "# Load Zeffy transaction data"
   ],
   "metadata": {
    "collapsed": false
   },
   "id": "898006ab4fc386f1"
  },
  {
   "cell_type": "code",
   "execution_count": 4,
   "outputs": [],
   "source": [
    "# Specify the path to your Excel file\n",
    "excel_file_path = '2024_Annual_event_Zeffy-export-1706586881621.xlsx'\n",
    "\n",
    "# Load the Excel file into a pandas DataFrame\n",
    "event_df = pd.read_excel(excel_file_path)"
   ],
   "metadata": {
    "collapsed": false,
    "ExecuteTime": {
     "end_time": "2024-01-30T04:15:47.997876600Z",
     "start_time": "2024-01-30T04:15:46.966047800Z"
    }
   },
   "id": "b94e5e56f280105b"
  },
  {
   "cell_type": "code",
   "execution_count": 38,
   "outputs": [],
   "source": [
    "buy_member_ticket_df = event_df[(event_df.Detail == '會員成人票') & (~pd.isna(event_df['Email']))].drop_duplicates(subset=['Email'])"
   ],
   "metadata": {
    "collapsed": false,
    "ExecuteTime": {
     "end_time": "2024-01-30T04:39:10.885820500Z",
     "start_time": "2024-01-30T04:39:10.869764700Z"
    }
   },
   "id": "9e50b45c20875979"
  },
  {
   "cell_type": "code",
   "execution_count": 40,
   "outputs": [],
   "source": [
    "buy_member_ticket_df['full_name'] = buy_member_ticket_df.apply(lambda x: x['First name'].lower() + '_' + x['Last name'].lower(), axis=1)"
   ],
   "metadata": {
    "collapsed": false,
    "ExecuteTime": {
     "end_time": "2024-01-30T04:39:14.216486300Z",
     "start_time": "2024-01-30T04:39:14.195171200Z"
    }
   },
   "id": "ebfae8b76963d624"
  },
  {
   "cell_type": "code",
   "execution_count": 54,
   "outputs": [
    {
     "data": {
      "text/plain": "5          marylaihsu@gmail.com\n7         peterjschiu@gmail.com\n8             kujrc@hotmail.com\n10        kathywu0810@gmail.com\n11           chiangay@gmail.com\n13          sshsieh@hotmail.com\n16        c.s.cheng@outlook.com\n24      ivanachen0227@gmail.com\n26         shinwen929@gmail.com\n28        changsuej@hotmail.com\n30      marydavis8501@gmail.com\n31            muhchou@gmail.com\n35           applet72@gmail.com\n37          entiesoon@gmail.com\n39             suefan@yahoo.com\n41         johnclchou@gmail.com\n43         minglukesu@gmail.com\n47    albert.y.c.chen@gmail.com\n50          hammyw130@yahoo.com\n53            mingtalin@msn.com\n55           sh162236@gmail.com\n57        howardhwa25@gmail.com\n58            bc47057@gmail.com\n65         d97527016@ntu.edu.tw\n67          shuhuihou@yahoo.com\n68        flyhighwish@gmail.com\n70          minglin48@gmail.com\n72        margiemchen@gmail.com\n74          bhwang101@gmail.com\n76          jchc.lynn@gmail.com\nName: Email, dtype: object"
     },
     "execution_count": 54,
     "metadata": {},
     "output_type": "execute_result"
    }
   ],
   "source": [
    "buy_member_ticket_df['Email']"
   ],
   "metadata": {
    "collapsed": false,
    "ExecuteTime": {
     "end_time": "2024-01-30T05:05:28.222346900Z",
     "start_time": "2024-01-30T05:05:28.191500Z"
    }
   },
   "id": "934c2807b75d233f"
  },
  {
   "cell_type": "markdown",
   "source": [
    "# Load Square member data"
   ],
   "metadata": {
    "collapsed": false
   },
   "id": "3b631eef55f7ed79"
  },
  {
   "cell_type": "code",
   "execution_count": 43,
   "outputs": [],
   "source": [
    "csv_file_path = 'SQ_membership_list_20240130-033829.csv'\n",
    "member_df = pd.read_csv(csv_file_path)"
   ],
   "metadata": {
    "collapsed": false,
    "ExecuteTime": {
     "end_time": "2024-01-30T04:40:27.402817400Z",
     "start_time": "2024-01-30T04:40:27.348665200Z"
    }
   },
   "id": "cba82a2463938e3e"
  },
  {
   "cell_type": "code",
   "execution_count": 45,
   "outputs": [],
   "source": [
    "member_df['full_name'] = member_df.apply(lambda x: x['First Name'].lower() + '_' + x['Last Name'].lower() if not pd.isna(x['Last Name']) else x['First Name'].lower(), axis=1)"
   ],
   "metadata": {
    "collapsed": false,
    "ExecuteTime": {
     "end_time": "2024-01-30T04:41:03.177928100Z",
     "start_time": "2024-01-30T04:41:03.149033100Z"
    }
   },
   "id": "5eaf199e7b50e97b"
  },
  {
   "cell_type": "code",
   "execution_count": 52,
   "outputs": [
    {
     "data": {
      "text/plain": "0       alan_chiang\n1       albert_chen\n2               amy\n3      connie_cheng\n4       davis_hwang\n5       en-tie_soon\n6       grace_hsieh\n7              i_yu\n8        ivana_chen\n9         james_lin\n10        john_yang\n11       mary_davis\n12         mary_hsu\n13      mei-hui_lai\n14          ming_su\n15    ming-ying_lee\n16     patricia_lee\n17       peter_chiu\n18    shiauta_chung\n19          swe_lai\n20      tsui-yin_su\n21     tsuilan_chen\n22     tzu-yun_ting\n23      wendy_chang\n24      yi-hung_lin\n25      yi-lin_tsai\n26     ying-po_liao\n27      yuntien_lee\nName: full_name, dtype: object"
     },
     "execution_count": 52,
     "metadata": {},
     "output_type": "execute_result"
    }
   ],
   "source": [
    "member_df['full_name']"
   ],
   "metadata": {
    "collapsed": false,
    "ExecuteTime": {
     "end_time": "2024-01-30T05:04:24.056525200Z",
     "start_time": "2024-01-30T05:04:24.009783300Z"
    }
   },
   "id": "94a03f3eff32e675"
  },
  {
   "cell_type": "markdown",
   "source": [
    "# Find those who bought the member ticket but not a member\n",
    "Criteria: `full_name` in `buy_member_ticket_df` is not in `member_df.full_name` and `Email` of `buy_member_ticket_df` is not in `member_df['Email Address']`"
   ],
   "metadata": {
    "collapsed": false
   },
   "id": "692c576c3f660a86"
  },
  {
   "cell_type": "code",
   "execution_count": 66,
   "outputs": [],
   "source": [
    "may_not_join_member_df = buy_member_ticket_df[~buy_member_ticket_df.full_name.isin(member_df.full_name) & ~buy_member_ticket_df.Email.isin(member_df['Email Address'])]"
   ],
   "metadata": {
    "collapsed": false,
    "ExecuteTime": {
     "end_time": "2024-01-30T05:17:20.820509Z",
     "start_time": "2024-01-30T05:17:20.809506200Z"
    }
   },
   "id": "13b136eb4bc3ab1a"
  },
  {
   "cell_type": "code",
   "execution_count": 67,
   "outputs": [],
   "source": [
    "# Specify the path where you want to save the Excel file\n",
    "timestamp = pd.Timestamp.now().strftime('%Y%m%d-%H%M%S')\n",
    "excel_file_path = f'may_not_join_tags_member_{timestamp}.xlsx'\n",
    "\n",
    "# Write the DataFrame to an Excel file\n",
    "may_not_join_member_df.to_excel(excel_file_path, index=False)"
   ],
   "metadata": {
    "collapsed": false,
    "ExecuteTime": {
     "end_time": "2024-01-30T05:17:21.417974500Z",
     "start_time": "2024-01-30T05:17:21.371862600Z"
    }
   },
   "id": "3b51b794d39b2d2"
  },
  {
   "cell_type": "code",
   "execution_count": null,
   "outputs": [],
   "source": [],
   "metadata": {
    "collapsed": false
   },
   "id": "9e505c02582afce7"
  }
 ],
 "metadata": {
  "kernelspec": {
   "display_name": "Python 3",
   "language": "python",
   "name": "python3"
  },
  "language_info": {
   "codemirror_mode": {
    "name": "ipython",
    "version": 2
   },
   "file_extension": ".py",
   "mimetype": "text/x-python",
   "name": "python",
   "nbconvert_exporter": "python",
   "pygments_lexer": "ipython2",
   "version": "2.7.6"
  }
 },
 "nbformat": 4,
 "nbformat_minor": 5
}
